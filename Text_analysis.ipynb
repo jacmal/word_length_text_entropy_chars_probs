{
  "nbformat": 4,
  "nbformat_minor": 0,
  "metadata": {
    "colab": {
      "name": "Text analysis.ipynb",
      "provenance": [],
      "collapsed_sections": [],
      "authorship_tag": "ABX9TyPWWRYrJJQokDF99BfodhVg",
      "include_colab_link": true
    },
    "kernelspec": {
      "name": "python3",
      "display_name": "Python 3"
    }
  },
  "cells": [
    {
      "cell_type": "markdown",
      "metadata": {
        "id": "view-in-github",
        "colab_type": "text"
      },
      "source": [
        "<a href=\"https://colab.research.google.com/github/jacmal/word_length_text_entropy_chars_probs/blob/main/Text_analysis.ipynb\" target=\"_parent\"><img src=\"https://colab.research.google.com/assets/colab-badge.svg\" alt=\"Open In Colab\"/></a>"
      ]
    },
    {
      "cell_type": "markdown",
      "metadata": {
        "id": "3yuTA_OrE2ib"
      },
      "source": [
        "# Import libs"
      ]
    },
    {
      "cell_type": "code",
      "metadata": {
        "id": "KjDg8iWdE6oO"
      },
      "source": [
        "from google.colab import files\r\n",
        "import numpy as np\r\n",
        "import matplotlib.pyplot as plt\r\n",
        "import string"
      ],
      "execution_count": null,
      "outputs": []
    },
    {
      "cell_type": "markdown",
      "metadata": {
        "id": "p0d629u4Ewok"
      },
      "source": [
        "# Data upload"
      ]
    },
    {
      "cell_type": "code",
      "metadata": {
        "id": "TIk6-4NSE30p",
        "colab": {
          "resources": {
            "http://localhost:8080/nbextensions/google.colab/files.js": {
              "data": "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",
              "ok": true,
              "headers": [
                [
                  "content-type",
                  "application/javascript"
                ]
              ],
              "status": 200,
              "status_text": "OK"
            }
          },
          "base_uri": "https://localhost:8080/",
          "height": 74
        },
        "outputId": "71e3e819-22b0-48fb-dfd7-ba98c89fc227"
      },
      "source": [
        "#text upload\r\n",
        "u_text = str(files.upload())\r\n",
        "u_text = u_text.lower()\r\n",
        "sample_text = u_text"
      ],
      "execution_count": null,
      "outputs": [
        {
          "output_type": "display_data",
          "data": {
            "text/html": [
              "\n",
              "     <input type=\"file\" id=\"files-1e50e373-08e2-42e7-bf47-67352a8b956d\" name=\"files[]\" multiple disabled\n",
              "        style=\"border:none\" />\n",
              "     <output id=\"result-1e50e373-08e2-42e7-bf47-67352a8b956d\">\n",
              "      Upload widget is only available when the cell has been executed in the\n",
              "      current browser session. Please rerun this cell to enable.\n",
              "      </output>\n",
              "      <script src=\"/nbextensions/google.colab/files.js\"></script> "
            ],
            "text/plain": [
              "<IPython.core.display.HTML object>"
            ]
          },
          "metadata": {
            "tags": []
          }
        },
        {
          "output_type": "stream",
          "text": [
            "Saving Nowy dokument tekstowy (3).txt to Nowy dokument tekstowy (3) (2).txt\n"
          ],
          "name": "stdout"
        }
      ]
    },
    {
      "cell_type": "markdown",
      "metadata": {
        "id": "s8PB5qvaEkdm"
      },
      "source": [
        "# Distribution of words length"
      ]
    },
    {
      "cell_type": "code",
      "metadata": {
        "id": "Ffu5g1LmIqQ1"
      },
      "source": [
        "def count_word_len(raw_text=sample_text):\r\n",
        "  '''\r\n",
        "  Take string variable and return 2 lists:\r\n",
        "    1. list of words in text\r\n",
        "    2. numpy vector of word lengths in the text\r\n",
        "  '''\r\n",
        "  #split text into words list\r\n",
        "  words_list = raw_text.split()\r\n",
        "\r\n",
        "  #create empty numpy vector counter for words length\r\n",
        "  word_lengths = np.zeros(len(words_list))\r\n",
        "\r\n",
        "  #counts chars of each word in words list and writes to counter vector\r\n",
        "  for wordi in range(len(words_list)):\r\n",
        "    word_lengths[wordi] = len(words_list[wordi])\r\n",
        "  \r\n",
        "  return words_list, word_lengths"
      ],
      "execution_count": null,
      "outputs": []
    },
    {
      "cell_type": "code",
      "metadata": {
        "id": "JVt8GH0_KWGf"
      },
      "source": [
        "#create word list and vector of words length\r\n",
        "words, word_l = count_word_len()"
      ],
      "execution_count": null,
      "outputs": []
    },
    {
      "cell_type": "code",
      "metadata": {
        "colab": {
          "base_uri": "https://localhost:8080/"
        },
        "id": "oDllqlaYboGy",
        "outputId": "380d7730-b6df-4a59-afa3-a67dd26a4294"
      },
      "source": [
        "#print sample of word list and counter vector\r\n",
        "sample = int(input())\r\n",
        "print('')\r\n",
        "for i in zip(word_l[0:sample], words[0:sample]):\r\n",
        "  print(i)"
      ],
      "execution_count": null,
      "outputs": [
        {
          "output_type": "stream",
          "text": [
            "10\n",
            "\n",
            "(6.0, \"{'nowy\")\n",
            "(8.0, 'dokument')\n",
            "(8.0, 'tekstowy')\n",
            "(9.0, \"(3).txt':\")\n",
            "(13.0, \"b'bfhjshjsdgf\")\n",
            "(2.0, 'js')\n",
            "(4.0, 'fdsh')\n",
            "(4.0, 'fdsg')\n",
            "(5.0, 'fdhsg')\n",
            "(5.0, 'fkdsg')\n"
          ],
          "name": "stdout"
        }
      ]
    },
    {
      "cell_type": "code",
      "metadata": {
        "colab": {
          "base_uri": "https://localhost:8080/",
          "height": 366
        },
        "id": "fbumYAxgJ7Mk",
        "outputId": "1d530cab-6f24-444c-da3d-c4ab69da0392"
      },
      "source": [
        "#create empty figure and set size\r\n",
        "fig = plt.figure(figsize=(8,4))\r\n",
        "\r\n",
        "#create histogram\r\n",
        "ax = fig.add_axes([0,0,1,1])\r\n",
        "ax.hist(word_l, bins=30)\r\n",
        "\r\n",
        "#some descriptions\r\n",
        "plt.xlabel('Word lengths')\r\n",
        "plt.ylabel('Word count')\r\n",
        "plt.title('Distributions of words length')\r\n",
        "\r\n",
        "plt.show()"
      ],
      "execution_count": null,
      "outputs": [
        {
          "output_type": "display_data",
          "data": {
            "image/png": "[encoded data removed]",
            "text/plain": [
              "<Figure size 576x288 with 1 Axes>"
            ]
          },
          "metadata": {
            "tags": [],
            "needs_background": "light"
          }
        }
      ]
    },
    {
      "cell_type": "markdown",
      "metadata": {
        "id": "Xi38EfWbImW6"
      },
      "source": [
        "# Chars distributions and entropy of text"
      ]
    },
    {
      "cell_type": "code",
      "metadata": {
        "id": "I-jUjYIPz-uK",
        "colab": {
          "base_uri": "https://localhost:8080/"
        },
        "outputId": "7b83a26e-e1d8-4769-93ba-9fdd691214c1"
      },
      "source": [
        "#create char list to count\r\n",
        "letters = string.ascii_lowercase\r\n",
        "print(letters)"
      ],
      "execution_count": null,
      "outputs": [
        {
          "output_type": "stream",
          "text": [
            "abcdefghijklmnopqrstuvwxyz\n"
          ],
          "name": "stdout"
        }
      ]
    },
    {
      "cell_type": "code",
      "metadata": {
        "id": "oaidnNmpYw9O"
      },
      "source": [
        "#input for chars\r\n",
        "#letters = str(input('Set chars to count: '))"
      ],
      "execution_count": null,
      "outputs": []
    },
    {
      "cell_type": "code",
      "metadata": {
        "id": "M_V5jGZ0fMrv"
      },
      "source": [
        "def char_counter(raw_text=sample_text, char_list=letters):\r\n",
        "  '''\r\n",
        "  Take text and char string variable and return:\r\n",
        "    1. numpy vector of counted chars\r\n",
        "  '''\r\n",
        "  #letter counter initialization\r\n",
        "  letter_counter = np.zeros(len(char_list))\r\n",
        "  \r\n",
        "  #counts characters in a given text\r\n",
        "  n = 0\r\n",
        "  for i in char_list:\r\n",
        "    letter_counter[n] = raw_text.lower().count(i)\r\n",
        "    n += 1\r\n",
        "\r\n",
        "  return letter_counter"
      ],
      "execution_count": null,
      "outputs": []
    },
    {
      "cell_type": "code",
      "metadata": {
        "id": "1JFluTBpgkoA"
      },
      "source": [
        "#create vector of counted chars\r\n",
        "letter_counter = char_counter(sample_text, letters)"
      ],
      "execution_count": null,
      "outputs": []
    },
    {
      "cell_type": "code",
      "metadata": {
        "id": "lPcsjuob5fcL"
      },
      "source": [
        "#count probability for each letter in given text\r\n",
        "letter_prob = letter_counter / sum(letter_counter)"
      ],
      "execution_count": null,
      "outputs": []
    },
    {
      "cell_type": "code",
      "metadata": {
        "id": "P8sIpFPO6q99",
        "colab": {
          "base_uri": "https://localhost:8080/"
        },
        "outputId": "f7fbe9a3-a833-4335-8da8-1d75dcd6eb49"
      },
      "source": [
        "#count entropy of chars in given text\r\n",
        "entropy = -sum(letter_prob * np.log2(letter_prob))"
      ],
      "execution_count": null,
      "outputs": [
        {
          "output_type": "stream",
          "text": [
            "/usr/local/lib/python3.6/dist-packages/ipykernel_launcher.py:2: RuntimeWarning: divide by zero encountered in log2\n",
            "  \n",
            "/usr/local/lib/python3.6/dist-packages/ipykernel_launcher.py:2: RuntimeWarning: invalid value encountered in multiply\n",
            "  \n"
          ],
          "name": "stderr"
        }
      ]
    },
    {
      "cell_type": "code",
      "metadata": {
        "id": "nc_c9Jy_wSOy"
      },
      "source": [
        "x = range(len(letters)) #creating a list for char index\r\n",
        "y = letter_counter      #number of occurrences of a given character"
      ],
      "execution_count": null,
      "outputs": []
    },
    {
      "cell_type": "code",
      "metadata": {
        "colab": {
          "base_uri": "https://localhost:8080/"
        },
        "id": "_dTTPXnm8Xkj",
        "outputId": "f857622c-973b-4c1b-e82e-64233494e7d1"
      },
      "source": [
        "type(letter_counter)"
      ],
      "execution_count": null,
      "outputs": [
        {
          "output_type": "execute_result",
          "data": {
            "text/plain": [
              "numpy.ndarray"
            ]
          },
          "metadata": {
            "tags": []
          },
          "execution_count": 16
        }
      ]
    },
    {
      "cell_type": "code",
      "metadata": {
        "colab": {
          "base_uri": "https://localhost:8080/",
          "height": 295
        },
        "id": "0CeAZ2VP3MQj",
        "outputId": "e05345a8-3aca-46ec-c86b-a0e9a930c261"
      },
      "source": [
        "#create histogram of chars distributions\r\n",
        "fig, ax = plt.subplots(1, figsize=(15, 4))\r\n",
        "\r\n",
        "ax.bar(x, y)\r\n",
        "ax.set_xticks(x)\r\n",
        "ax.set_xticklabels(letters)\r\n",
        "\r\n",
        "plt.title('Distributions of selected chars in text')\r\n",
        "plt.xlabel('Chars')\r\n",
        "plt.ylabel('number of letters')\r\n",
        "plt.show()"
      ],
      "execution_count": null,
      "outputs": [
        {
          "output_type": "display_data",
          "data": {
            "image/png": "[encoded data removed]",
            "text/plain": [
              "<Figure size 1080x288 with 1 Axes>"
            ]
          },
          "metadata": {
            "tags": [],
            "needs_background": "light"
          }
        }
      ]
    },
    {
      "cell_type": "code",
      "metadata": {
        "colab": {
          "base_uri": "https://localhost:8080/",
          "height": 295
        },
        "id": "DIm3dIpU6FbK",
        "outputId": "1318e8a0-7547-4a8f-d4eb-94e2b973b725"
      },
      "source": [
        "#create histogram of chars probability\r\n",
        "fig, ax = plt.subplots(1, figsize=(15, 4))\r\n",
        "\r\n",
        "ax.bar(x, letter_prob)\r\n",
        "ax.set_xticks(x)\r\n",
        "ax.set_xticklabels(letters)\r\n",
        "ax.set_title('Entropy [bits] = %.3f'%entropy)\r\n",
        "\r\n",
        "plt.xlabel('Chars')\r\n",
        "plt.ylabel('Chars probability in all text')\r\n",
        "plt.show()"
      ],
      "execution_count": null,
      "outputs": [
        {
          "output_type": "display_data",
          "data": {
            "image/png": "[encoded data removed]",
            "text/plain": [
              "<Figure size 1080x288 with 1 Axes>"
            ]
          },
          "metadata": {
            "tags": [],
            "needs_background": "light"
          }
        }
      ]
    },
    {
      "cell_type": "markdown",
      "metadata": {
        "id": "uKBicHdAZjb2"
      },
      "source": [
        "## Conditional entropy (chars sequence entropy)"
      ]
    },
    {
      "cell_type": "code",
      "metadata": {
        "id": "uZ9cHf8Aol5L"
      },
      "source": [
        "def chars_sequence_counter(chars_list=letters, raw_text=sample_text):\r\n",
        "  '''\r\n",
        "  Take char string variable, text and return:\r\n",
        "    1. numpy matrix of counted chars sequence\r\n",
        "  '''\r\n",
        "  #create size for matrix\r\n",
        "  num_letters = int(len(chars_list))\r\n",
        "  #init count matrix for char sequence \r\n",
        "  prob_matrix = np.zeros((num_letters, num_letters))\r\n",
        "\r\n",
        "  #checks the current character in the text and counts the occurrence of the next character\r\n",
        "  for i in range(len(raw_text)-1):\r\n",
        "    current_letter = raw_text[i]  #current char\r\n",
        "    next_letter = raw_text[i+1]   #next char\r\n",
        "    if current_letter in chars_list and next_letter in chars_list:\r\n",
        "      prob_matrix[chars_list.index(current_letter), chars_list.index(next_letter)] += 1\r\n",
        "  \r\n",
        "  return prob_matrix"
      ],
      "execution_count": null,
      "outputs": []
    },
    {
      "cell_type": "code",
      "metadata": {
        "id": "1xmLvBP8tzn6"
      },
      "source": [
        "sequence_matrix = chars_sequence_counter(letters, sample_text)"
      ],
      "execution_count": null,
      "outputs": []
    },
    {
      "cell_type": "code",
      "metadata": {
        "colab": {
          "base_uri": "https://localhost:8080/",
          "height": 621
        },
        "id": "e1GCwx0NGqJN",
        "outputId": "a9e7c652-c6cc-49c7-db10-57103a2faf55"
      },
      "source": [
        "#create probability matrix\r\n",
        "fig, ax = plt.subplots(1, figsize=(10,10))\r\n",
        "\r\n",
        "ax.imshow(sequence_matrix, vmax=500)\r\n",
        "ax.set_ylabel('Next char probability')\r\n",
        "ax.set_xlabel('Current char')\r\n",
        "\r\n",
        "ax.set_xticks(range(int(len(letters))))\r\n",
        "ax.set_yticks(range(int(len(letters))))\r\n",
        "ax.set_xticklabels(letters)\r\n",
        "ax.set_yticklabels(letters)\r\n",
        "\r\n",
        "plt.title('PROBABILITY MATRIX')\r\n",
        "plt.show()"
      ],
      "execution_count": null,
      "outputs": [
        {
          "output_type": "display_data",
          "data": {
            "image/png": "[encoded data removed]",
            "text/plain": [
              "<Figure size 720x720 with 1 Axes>"
            ]
          },
          "metadata": {
            "tags": [],
            "needs_background": "light"
          }
        }
      ]
    },
    {
      "cell_type": "code",
      "metadata": {
        "colab": {
          "base_uri": "https://localhost:8080/"
        },
        "id": "e7c_qSbjOvTf",
        "outputId": "28ab6328-6bb4-44cc-da5c-457b862202af"
      },
      "source": [
        "#init numpy vector for conditional char entrpy\r\n",
        "conditional_entrpy = np.zeros(int(len(letters)))\r\n",
        "\r\n",
        "#count conditional char entropy\r\n",
        "for i in range(int(len(letters))):\r\n",
        "  probs = sequence_matrix[i,:]\r\n",
        "  probs = probs / sum(probs)\r\n",
        "  conditional_entrpy[i] = -sum(probs * np.log2(probs + np.finfo(float).eps))"
      ],
      "execution_count": null,
      "outputs": [
        {
          "output_type": "stream",
          "text": [
            "/usr/local/lib/python3.6/dist-packages/ipykernel_launcher.py:7: RuntimeWarning: invalid value encountered in true_divide\n",
            "  import sys\n"
          ],
          "name": "stderr"
        }
      ]
    },
    {
      "cell_type": "code",
      "metadata": {
        "colab": {
          "base_uri": "https://localhost:8080/",
          "height": 265
        },
        "id": "iKMUKpOCd9v7",
        "outputId": "17303e35-94aa-4b68-9bc0-1e710997bf71"
      },
      "source": [
        "#create histogram of conditional char entropy\r\n",
        "fig, ax = plt.subplots(1, figsize=(8, 4))\r\n",
        "\r\n",
        "ax.bar(range(int(len(letters))), conditional_entrpy)\r\n",
        "ax.set_xticks(range(int(len(letters))))\r\n",
        "ax.set_xticklabels(letters)\r\n",
        "\r\n",
        "plt.show()"
      ],
      "execution_count": null,
      "outputs": [
        {
          "output_type": "display_data",
          "data": {
            "image/png": "[encoded data removed]",
            "text/plain": [
              "<Figure size 576x288 with 1 Axes>"
            ]
          },
          "metadata": {
            "tags": [],
            "needs_background": "light"
          }
        }
      ]
    },
    {
      "cell_type": "markdown",
      "metadata": {
        "id": "fSGGJHLRfOFd"
      },
      "source": [
        "# Statistics of the analyzed text"
      ]
    },
    {
      "cell_type": "code",
      "metadata": {
        "colab": {
          "base_uri": "https://localhost:8080/"
        },
        "id": "-8egE0loPgr7",
        "outputId": "521d4099-6be7-451d-f87f-b4ea8fd9834b"
      },
      "source": [
        "print('Entropy: {:.4f} [bits]'.format(entropy))\r\n",
        "print(' _________________________________')\r\n",
        "print('|     |             | conditional |')\r\n",
        "print('|char | probability |    entropy  |')\r\n",
        "print('|_____|_____________|_____________|')\r\n",
        "for i, letter in enumerate(letters):\r\n",
        "  print(\"|  {}  |  {:.4f}%       {:.4f}\".format(letter, letter_prob[i]*100, conditional_entrpy[i]))\r\n",
        "print('|_________________________________')"
      ],
      "execution_count": null,
      "outputs": [
        {
          "output_type": "stream",
          "text": [
            "Entropy: nan [bits]\n",
            " _________________________________\n",
            "|     |             | conditional |\n",
            "|char | probability |    entropy  |\n",
            "|_____|_____________|_____________|\n",
            "|  a  |  5.9954%       1.7916\n",
            "|  b  |  1.0024%       -0.0000\n",
            "|  c  |  0.0000%       nan\n",
            "|  d  |  17.9893%       2.5519\n",
            "|  e  |  0.0064%       1.0000\n",
            "|  f  |  13.9892%       1.8920\n",
            "|  g  |  3.9969%       -0.0000\n",
            "|  h  |  10.9915%       1.9219\n",
            "|  i  |  0.0000%       nan\n",
            "|  j  |  12.9900%       1.8554\n",
            "|  k  |  8.9995%       1.6623\n",
            "|  l  |  5.9954%       1.9219\n",
            "|  m  |  0.0032%       -0.0000\n",
            "|  n  |  0.0064%       1.0000\n",
            "|  o  |  0.0096%       0.9183\n",
            "|  p  |  0.0000%       nan\n",
            "|  q  |  0.0000%       nan\n",
            "|  r  |  0.0000%       nan\n",
            "|  s  |  17.9893%       1.5292\n",
            "|  t  |  0.0161%       1.5850\n",
            "|  u  |  0.0032%       -0.0000\n",
            "|  v  |  0.0000%       nan\n",
            "|  w  |  0.0064%       -0.0000\n",
            "|  x  |  0.0032%       -0.0000\n",
            "|  y  |  0.0064%       nan\n",
            "|  z  |  0.0000%       nan\n",
            "|_________________________________\n"
          ],
          "name": "stdout"
        }
      ]
    },
    {
      "cell_type": "markdown",
      "metadata": {
        "id": "f2OCq-F3dalc"
      },
      "source": [
        "# Make a random word cloud"
      ]
    },
    {
      "cell_type": "code",
      "metadata": {
        "colab": {
          "base_uri": "https://localhost:8080/",
          "height": 217
        },
        "id": "t_iF-p5ve9FD",
        "outputId": "cb003356-443b-4ffa-83ba-953cc8cf5b74"
      },
      "source": [
        "from wordcloud import WordCloud\r\n",
        "word_cloud_width = 600\r\n",
        "word_cloud_height = 300\r\n",
        "\r\n",
        "wordcloud = WordCloud(width=word_cloud_width, height=word_cloud_height, relative_scaling=True).generate(sample_text)\r\n",
        "print(type(wordcloud))\r\n",
        "\r\n",
        "plt.imshow(wordcloud)\r\n",
        "plt.axis('off')\r\n",
        "plt.show()"
      ],
      "execution_count": null,
      "outputs": [
        {
          "output_type": "stream",
          "text": [
            "<class 'wordcloud.wordcloud.WordCloud'>\n"
          ],
          "name": "stdout"
        },
        {
          "output_type": "display_data",
          "data": {
            "image/png": "[encoded data removed]",
            "text/plain": [
              "<Figure size 432x288 with 1 Axes>"
            ]
          },
          "metadata": {
            "tags": [],
            "needs_background": "light"
          }
        }
      ]
    }
  ]
}